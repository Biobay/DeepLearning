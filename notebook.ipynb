{
 "cells": [
  {
   "cell_type": "code",
   "execution_count": null,
   "id": "fe05cab0",
   "metadata": {
    "vscode": {
     "languageId": "plaintext"
    }
   },
   "outputs": [],
   "source": [
    "import os\n",
    "import sys\n",
    "import subprocess\n",
    "\n",
    "# --- CONFIGURAZIONE DEL PROGETTO ---\n",
    "# Modifica queste variabili per clonare il tuo repository specifico\n",
    "GIT_REPO_URL = \"https://github.com/Biobay/DeepLearning/\"  # <-- INSERISCI QUI L'URL DEL TUO REPOSITORY\n",
    "BRANCH_NAME = \"RIS-1-CORRETTO\"  # <-- INSERISCI QUI IL NOME DEL BRANCH\n",
    "PROJECT_DIR = \"DeepLearning\" # <-- NOME DELLA CARTELLA DOPO LA CLONAZIONE\n",
    "\n",
    "# --- SCRIPT DI SETUP E TRAINING ---\n",
    "\n",
    "# 1. Clona il repository e si sposta nel branch specificato\n",
    "if not os.path.exists(PROJECT_DIR):\n",
    "    print(f\"Clonazione del branch '{BRANCH_NAME}' da '{GIT_REPO_URL}'...\")\n",
    "    subprocess.run(['git', 'clone', '--branch', BRANCH_NAME, GIT_REPO_URL, PROJECT_DIR], check=True)\n",
    "else:\n",
    "    print(f\"La cartella '{PROJECT_DIR}' esiste già. Salto la clonazione.\")\n",
    "\n",
    "# 2. Naviga nella cartella del progetto\n",
    "os.chdir(PROJECT_DIR)\n",
    "print(f\"Cartella di lavoro corrente: {os.getcwd()}\")\n",
    "\n",
    "# 3. Installa le dipendenze\n",
    "print(\"Installazione delle dipendenze da requirements.txt...\")\n",
    "subprocess.run([sys.executable, '-m', 'pip', 'install', '-r', 'requirements.txt'], check=True)\n",
    "\n",
    "# 4. Aggiunge il percorso al path di Python per gli import\n",
    "if os.getcwd() not in sys.path:\n",
    "    sys.path.append(os.getcwd())\n",
    "print(\"Path di sistema aggiornato.\")\n",
    "\n",
    "# 5. Avvia l'addestramento\n",
    "print(\"--- Avvio del processo di addestramento ---\")\n",
    "try:\n",
    "    from scripts.train import train\n",
    "    import src.config as config\n",
    "    print(\"Moduli del progetto importati con successo!\")\n",
    "    train(config)\n",
    "    print(\"--- Processo di addestramento terminato ---\")\n",
    "except ImportError as e:\n",
    "    print(f\"ERRORE: Impossibile importare i moduli. {e}\")\n",
    "except Exception as e:\n",
    "    print(f\"Si è verificato un errore durante l'addestramento: {e}\")\n"
   ]
  }
 ],
 "metadata": {
  "language_info": {
   "name": "python"
  }
 },
 "nbformat": 4,
 "nbformat_minor": 5
}
