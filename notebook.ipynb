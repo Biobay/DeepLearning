{
 "cells": [
  {
   "cell_type": "code",
   "execution_count": null,
   "id": "fe05cab0",
   "metadata": {
    "vscode": {
     "languageId": "plaintext"
    }
   },
   "outputs": [],
   "source": [
    "import os\n",
    "import sys\n",
    "\n",
    "# --- CODICE DI AVVIO PER IL TUO AMBIENTE ---\n",
    "\n",
    "# 1. Definiamo il percorso esatto della cartella principale del progetto.\n",
    "project_root = '/workspace/deeplearning'\n",
    "\n",
    "# 2. CAMBIO FONDAMENTALE: Ci spostiamo nella cartella del progetto.\n",
    "#    Da ora in poi, tutti i percorsi relativi (es. \"data/pokemon.csv\") saranno corretti.\n",
    "os.chdir(project_root)\n",
    "print(f\"Cartella di lavoro corrente: {os.getcwd()}\")\n",
    "\n",
    "# 3. Aggiungiamo il percorso al path di Python per gli import.\n",
    "if project_root not in sys.path:\n",
    "    sys.path.append(project_root)\n",
    "\n",
    "# -----------------------------------------\n",
    "\n",
    "# Ora importiamo e avviamo l'addestramento.\n",
    "try:\n",
    "    from scripts.train import train\n",
    "    import src.config as config\n",
    "    print(\"Moduli del progetto importati con successo!\")\n",
    "except ImportError as e:\n",
    "    print(f\"ERRORE: Impossibile importare i moduli. {e}\")\n",
    "\n",
    "# Avvia la funzione di addestramento\n",
    "print(\"\\n--- Avvio del processo di addestramento ---\")\n",
    "train(config)\n",
    "print(\"\\n--- Processo di addestramento terminato ---\")\n"
   ]
  }
 ],
 "metadata": {
  "language_info": {
   "name": "python"
  }
 },
 "nbformat": 4,
 "nbformat_minor": 5
}
